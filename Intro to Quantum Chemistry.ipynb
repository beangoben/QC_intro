{
 "cells": [
  {
   "cell_type": "markdown",
   "metadata": {
    "code_folding": []
   },
   "source": [
    "# Practical intro to Quantum Chemistry\n",
    "\n",
    "## with Orca!\n",
    "\n",
    "[![](images/orca.png)](https://orcaforum.cec.mpg.de/)\n"
   ]
  },
  {
   "cell_type": "markdown",
   "metadata": {},
   "source": [
    "### Requirements / Bare-bones:\n",
    "\n",
    "* [**Orca 3.0.3**](https://orcaforum.cec.mpg.de/).\n",
    "* Python 2 or 3, with [Ipython/Jupyter](https://jupyter.org/) notebook abilities. \n",
    "* Python modules: *matplotlib, imolecule, openbabel*.\n",
    "\n",
    "### Recomended / Good stuff to check out\n",
    " \n",
    "* [**Orca Manual**](https://orcaforum.cec.mpg.de/OrcaManual.pdf).\n",
    "* [**Orca Input Library**](https://sites.google.com/site/orcainputlibrary/).\n",
    "* A sweet sweet text editor, I suggest [**Sublime Text**](http://www.sublimetext.com/).\n",
    "* Molecular visualizer, [**Avogadro**](http://avogadro.cc/wiki/Main_Page) is good and easy and [**VMD**](http://www.ks.uiuc.edu/Research/vmd/) is powerful.\n",
    "\n",
    "## Quantum Chemistry\n",
    "\n",
    "Quantum chemistry is a mix of physics, chemistry, and applied mathematics and computation.\n",
    "\n",
    "In Quantum Chemistry try to solve either the time-independent Schrödinger equation (stationary states)\n",
    "to get molecular properties:\n",
    "$$\n",
    "H | \\psi \\rangle = E | \\psi \\rangle,\n",
    "$$\n",
    "or time-dependent:\n",
    "$$\n",
    "i\\hbar \\frac{\\partial \\Psi}{\\partial t} = -\\frac{\\hbar^2}{2m}\n",
    "\\frac{\\partial^2 \\Psi}{\\partial x^2} + V \\Psi\n",
    "$$\n",
    "\n",
    "Relevant quotes:\n",
    "\n",
    "> “We can calculate everything\"\n",
    "> - Enrico Clementi\n"
   ]
  },
  {
   "cell_type": "markdown",
   "metadata": {},
   "source": [
    "## Input files\n",
    "\n",
    "Almost all quantum chemistry packages work with input files, which are text files with a few key words that indicate which model we will use for a calculation.\n",
    "\n",
    "Here is an example input file\n"
   ]
  },
  {
   "cell_type": "code",
   "execution_count": 134,
   "metadata": {
    "collapsed": false
   },
   "outputs": [
    {
     "name": "stdout",
     "output_type": "stream",
     "text": [
      "! CCSD cc-pVTZ Opt\r\n",
      "! NUMGRAD\r\n",
      "\r\n",
      "*xyzfile 0 1 mol.xyz\r\n",
      "\r\n"
     ]
    }
   ],
   "source": [
    "!head input.inp"
   ]
  },
  {
   "cell_type": "markdown",
   "metadata": {},
   "source": [
    "### Some questions that arise when doing calculations:\n",
    "\n",
    "* What software should I use?\n",
    "* Is my algorithm parallelized?\n",
    "* Which geometry?\n",
    "* Which methodology should I use?\n",
    "* DFT or Wavefunction methods? or Quantum Monte Carlo?\n",
    "* Open or Closed Shell?\n",
    "* Multireference wavefunction?\n",
    "* How accurate and how much can I trust my calculations?\n",
    "* How do I treat a solvated molecule? Which solvation model?\n",
    "* Do I need to incorporate dispersion effects?\n",
    "* Which basis set should I use?\n",
    "* Polarization, Diffusion functions?\n",
    "* Spin coupling effects?\n",
    "\n",
    "Most decisions are coupled so you really can't test each independently.\n",
    "\n",
    "Like a fellow quantum chemist said, sometimes you just got to do science and just marry whichever of what works best for you!\n",
    "\n",
    "## The Quantum Chemistry Panorama (stationary)\n",
    "### So what does this all mean?\n",
    "![](images/overview.png)\n",
    "\n",
    "#### The main problem is treating electron-electron interactions.\n",
    "\n",
    "### To summarize:\n",
    "\n",
    "* **DFT:** Based on charge density, a physical measurable, pretty cheap $\\mathcal{O}(n^3)-\\mathcal{O}(n^4)$ and accurate, not 100% reliable. You have to decide on a functional and a basis set. Also **the Hohenberg-Kohn theorems** state that any molecular property can be derived from the charge density and there exists a universal functional which will solve all your problems.\n",
    "* **Wavefunction:** Pretty expensive $\\mathcal{O}(n^3)-\\mathcal{O}(n!)$, but reliable and there is a clear idea of how to systematically improve your solution and to arrive to the exact theoretical limit. Sometimes you can \n",
    "\n",
    "* **Semi-empirical:** Relies on force fields, parameterizations, model-fitting and other neat tricks to get cheap and semi accurate results for a fraction of the cost. \n"
   ]
  },
  {
   "cell_type": "markdown",
   "metadata": {},
   "source": [
    "## First is First\n",
    "### Choose you favorite molecule!*\n",
    "#### * of 10 electrons or less\n",
    "\n",
    "### XYZ geometry files\n",
    "Contains basic 3d coordinates of a molecule\n",
    "\n",
    "1. Number of atoms\n",
    "2. Comment line, can be whatever\n",
    "3. Atom # 1, Element X Y Z\n",
    "\n",
    "... follow till N atoms\n",
    "\n",
    "**Now** make a xyz file, name it **mol.xyz**, you will use this molecule for your exploration"
   ]
  },
  {
   "cell_type": "code",
   "execution_count": 55,
   "metadata": {
    "collapsed": false
   },
   "outputs": [
    {
     "name": "stdout",
     "output_type": "stream",
     "text": [
      "3\r\n",
      "\r\n",
      "H          0.63109       -0.02651        0.47485\r\n",
      "O          0.14793        0.02998       -0.34219\r\n",
      "H         -0.77901       -0.00348       -0.13266\r\n"
     ]
    }
   ],
   "source": [
    "!head mol.xyz"
   ]
  },
  {
   "cell_type": "code",
   "execution_count": 133,
   "metadata": {
    "collapsed": false
   },
   "outputs": [
    {
     "data": {
      "text/html": [
       "<div id=\"molecule_0e96b27e-609c-456a-8be5-1ef8b16fa787\"></div>\n",
       "           <script type=\"text/javascript\">\n",
       "           require.config({baseUrl: \"/\",\n",
       "                             paths: {imolecule: ['nbextensions/imolecule.min', 'https://rawgit.com/patrickfuller/imolecule/master/js/build/imolecule.min']}});\n",
       "           require(['imolecule'], function () {\n",
       "               var $d = $('#molecule_0e96b27e-609c-456a-8be5-1ef8b16fa787');\n",
       "               $d.width(400); $d.height(300);\n",
       "               $d.imolecule = jQuery.extend({}, imolecule);\n",
       "               $d.imolecule.create($d, {drawingType: 'ball and stick',\n",
       "                                        cameraType: 'perspective',\n",
       "                                        shader: 'lambert'});\n",
       "               $d.imolecule.draw({\"atoms\":[{\"charge\":0.205233,\"element\":\"H\",\"location\":[0.631087,-0.026507,0.474850]},{\"charge\":-0.410466,\"element\":\"O\",\"location\":[0.147927,0.029983,-0.342190]},{\"charge\":0.205233,\"element\":\"H\",\"location\":[-0.779013,-0.003477,-0.132660]}],\"bonds\":[{\"atoms\":[1,2],\"order\":1},{\"atoms\":[1,0],\"order\":1}],\"formula\":\"H2O\",\"molecular_weight\":18.015280,\"units\":{\"molecular_weight\":\"g / mol\"}});\n",
       "\n",
       "               $d.resizable({\n",
       "                   aspectRatio: 400 / 300,\n",
       "                   resize: function (evt, ui) {\n",
       "                       $d.imolecule.renderer.setSize(ui.size.width,\n",
       "                                                     ui.size.height);\n",
       "                   }\n",
       "               });\n",
       "           });\n",
       "           </script>"
      ],
      "text/plain": [
       "<IPython.core.display.HTML object>"
      ]
     },
     "metadata": {},
     "output_type": "display_data"
    }
   ],
   "source": [
    "import imolecule\n",
    "imolecule.draw(\"mol.xyz\")"
   ]
  },
  {
   "cell_type": "markdown",
   "metadata": {},
   "source": [
    "## Run a calculation\n",
    "Assuming you installed Orca correctly, you can run your calculations as show below via the command:\n",
    "```bash\n",
    "orca inputfile > outputfile\n",
    "```\n",
    "should take only a few seconds.."
   ]
  },
  {
   "cell_type": "code",
   "execution_count": null,
   "metadata": {
    "code_folding": [],
    "collapsed": false,
    "scrolled": true
   },
   "outputs": [],
   "source": [
    "!orca input.inp > output.out"
   ]
  },
  {
   "cell_type": "markdown",
   "metadata": {},
   "source": [
    "let's check out our output file"
   ]
  },
  {
   "cell_type": "code",
   "execution_count": 43,
   "metadata": {
    "collapsed": false
   },
   "outputs": [
    {
     "name": "stdout",
     "output_type": "stream",
     "text": [
      "Electron density file                           ... input.scfp.tmp\r\n",
      "\r\n",
      "-------------\r\n",
      "DIPOLE MOMENT\r\n",
      "-------------\r\n",
      "                                X             Y             Z\r\n",
      "Electronic contribution:      0.07182       0.01456      -0.16614\r\n",
      "Nuclear contribution   :     -0.38844      -0.07874       0.89861\r\n",
      "                        -----------------------------------------\r\n",
      "Total Dipole Moment    :     -0.31662      -0.06418       0.73246\r\n",
      "                        -----------------------------------------\r\n",
      "Magnitude (a.u.)       :      0.80054\r\n",
      "Magnitude (Debye)      :      2.03482\r\n",
      "\r\n",
      "\r\n",
      "                           *** MDCI DENSITY ***\r\n",
      "\r\n",
      "------------------------------------------------------------------------------\r\n",
      "                       ORCA ELECTRIC PROPERTIES CALCULATION\r\n",
      "------------------------------------------------------------------------------\r\n",
      "\r\n",
      "Dipole Moment Calculation                       ... on\r\n",
      "Quadrupole Moment Calculation                   ... off\r\n",
      "Polarizability Calculation                      ... off\r\n",
      "GBWName                                         ... input.gbw\r\n",
      "Electron density file                           ... input.mdcip.tmp\r\n",
      "\r\n",
      "-------------\r\n",
      "DIPOLE MOMENT\r\n",
      "-------------\r\n",
      "                                X             Y             Z\r\n",
      "Electronic contribution:      0.09144       0.01854      -0.21154\r\n",
      "Nuclear contribution   :     -0.38844      -0.07874       0.89861\r\n",
      "                        -----------------------------------------\r\n",
      "Total Dipole Moment    :     -0.29700      -0.06020       0.68707\r\n",
      "                        -----------------------------------------\r\n",
      "Magnitude (a.u.)       :      0.75093\r\n",
      "Magnitude (Debye)      :      1.90872\r\n",
      "\r\n",
      "\r\n",
      "Timings for individual modules:\r\n",
      "\r\n",
      "Sum of individual times         ...      146.481 sec (=   2.441 min)\r\n",
      "GTO integral calculation        ...        0.967 sec (=   0.016 min)   0.7 %\r\n",
      "SCF iterations                  ...        6.615 sec (=   0.110 min)   4.5 %\r\n",
      "MDCI module                     ...       14.712 sec (=   0.245 min)  10.0 %\r\n",
      "SCF Gradient evaluation         ...      124.154 sec (=   2.069 min)  84.8 %\r\n",
      "Geometry relaxation             ...        0.032 sec (=   0.001 min)   0.0 %\r\n",
      "                             ****ORCA TERMINATED NORMALLY****\r\n",
      "TOTAL RUN TIME: 0 days 0 hours 2 minutes 18 seconds 779 msec\r\n"
     ]
    }
   ],
   "source": [
    "!tail -50 output.out"
   ]
  },
  {
   "cell_type": "markdown",
   "metadata": {},
   "source": [
    "Output files are large, so we normally use the magic of programming to extract the information:\n",
    "#### Grep\n",
    "Via command line you can use [**grep**](http://www.tecmint.com/12-practical-examples-of-linux-grep-command/) (globally search a regular expression and print), you use like this:\n",
    "```shell\n",
    "grep string file\n",
    "```\n",
    "Care about energy?"
   ]
  },
  {
   "cell_type": "code",
   "execution_count": 47,
   "metadata": {
    "collapsed": false
   },
   "outputs": [
    {
     "name": "stdout",
     "output_type": "stream",
     "text": [
      "FINAL SINGLE POINT ENERGY       -76.324170464170\r\n",
      "FINAL SINGLE POINT ENERGY       -76.324453056742\r\n",
      "FINAL SINGLE POINT ENERGY       -76.324556475896\r\n",
      "FINAL SINGLE POINT ENERGY       -76.324556533388\r\n"
     ]
    }
   ],
   "source": [
    "!grep 'FINAL SINGLE POINT ENERGY' output.out"
   ]
  },
  {
   "cell_type": "markdown",
   "metadata": {},
   "source": [
    "time?"
   ]
  },
  {
   "cell_type": "code",
   "execution_count": 50,
   "metadata": {
    "collapsed": false
   },
   "outputs": [
    {
     "name": "stdout",
     "output_type": "stream",
     "text": [
      "TOTAL RUN TIME: 0 days 0 hours 2 minutes 18 seconds 779 msec\r\n"
     ]
    }
   ],
   "source": [
    "!grep 'TOTAL RUN TIME:' output.out"
   ]
  },
  {
   "cell_type": "markdown",
   "metadata": {},
   "source": [
    "### Better yet, some Python magic\n",
    "For now a poor man's grep"
   ]
  },
  {
   "cell_type": "code",
   "execution_count": 65,
   "metadata": {
    "collapsed": false
   },
   "outputs": [],
   "source": [
    "def findStrings(afile,substr):\n",
    "    lines=[]\n",
    "    with open(afile) as astr:\n",
    "        for line in astr:\n",
    "            if substr in line:\n",
    "                 lines.append(line)\n",
    "    return lines"
   ]
  },
  {
   "cell_type": "code",
   "execution_count": 66,
   "metadata": {
    "collapsed": false
   },
   "outputs": [
    {
     "data": {
      "text/plain": [
       "['FINAL SINGLE POINT ENERGY       -76.324170464170\\n',\n",
       " 'FINAL SINGLE POINT ENERGY       -76.324453056742\\n',\n",
       " 'FINAL SINGLE POINT ENERGY       -76.324556475896\\n',\n",
       " 'FINAL SINGLE POINT ENERGY       -76.324556533388\\n']"
      ]
     },
     "execution_count": 66,
     "metadata": {},
     "output_type": "execute_result"
    }
   ],
   "source": [
    "findStrings('output.out','FINAL SINGLE POINT ENERGY')"
   ]
  },
  {
   "cell_type": "code",
   "execution_count": 84,
   "metadata": {
    "collapsed": false
   },
   "outputs": [],
   "source": [
    "def findFinalEnergy(afile):\n",
    "    lines=[]\n",
    "    substr='FINAL SINGLE POINT ENERGY'\n",
    "    with open(afile) as astr:\n",
    "        for line in astr:\n",
    "            if substr in line:\n",
    "                tmpline=line.replace(substr,'').strip()\n",
    "                lines.append(float(tmpline))\n",
    "    return lines[-1]"
   ]
  },
  {
   "cell_type": "code",
   "execution_count": 86,
   "metadata": {
    "collapsed": false
   },
   "outputs": [
    {
     "data": {
      "text/plain": [
       "-76.324556533388"
      ]
     },
     "execution_count": 86,
     "metadata": {},
     "output_type": "execute_result"
    }
   ],
   "source": [
    "findFinalEnergy('output.out')"
   ]
  },
  {
   "cell_type": "markdown",
   "metadata": {},
   "source": [
    "#### Now computing time"
   ]
  },
  {
   "cell_type": "code",
   "execution_count": 108,
   "metadata": {
    "collapsed": false
   },
   "outputs": [],
   "source": [
    "def findComputeTime(afile):\n",
    "    timestr=''\n",
    "    substr='TOTAL RUN TIME:'\n",
    "    milisecs=0\n",
    "    # find string with time\n",
    "    with open(afile) as astr:\n",
    "        for line in astr:\n",
    "            if substr in line:\n",
    "                timestr=line.replace(substr,'').strip()\n",
    "    # there is probably a better way of doing this\n",
    "    timestr=timestr.split()\n",
    "    milisecs+=int(timestr[-2]) #milisecs\n",
    "    milisecs+=1000*int(timestr[-4]) #seconds\n",
    "    milisecs+=60000*int(timestr[-6]) #minutes\n",
    "    milisecs+=60*60*1000*int(timestr[-8]) #hours\n",
    "    milisecs+=24*60*60*1000*int(timestr[-10]) #days\n",
    "\n",
    "    return milisecs"
   ]
  },
  {
   "cell_type": "code",
   "execution_count": 111,
   "metadata": {
    "collapsed": false
   },
   "outputs": [
    {
     "data": {
      "text/plain": [
       "138779"
      ]
     },
     "execution_count": 111,
     "metadata": {},
     "output_type": "execute_result"
    }
   ],
   "source": [
    "findComputeTime('output.out')"
   ]
  },
  {
   "cell_type": "markdown",
   "metadata": {
    "collapsed": false
   },
   "source": [
    "### Also CCLIB\n",
    "From the website: http://cclib.github.io/\n",
    ">cclib is an open source library, written in Python, for parsing and interpreting the results of computational chemistry packages.\n",
    ">"
   ]
  },
  {
   "cell_type": "markdown",
   "metadata": {
    "collapsed": true
   },
   "source": [
    "## Wavefunction methods\n",
    "### Now to compute!\n",
    "\n",
    "\n",
    "We are interested in time, accuracy and cost.\n",
    "\n",
    "Explore the following methods:\n",
    "* PM3\n",
    "* Hartree Fock\n",
    "* MP2\n",
    "* CCSD\n",
    "* CCSD(T)\n",
    "* DLPNO-CCSD\n",
    "Use the basis set **cc-pVDZ**\n",
    "\n",
    "And save the energy and times in a dictionary"
   ]
  },
  {
   "cell_type": "code",
   "execution_count": 135,
   "metadata": {
    "collapsed": true
   },
   "outputs": [],
   "source": [
    "from collections import OrderedDict\n",
    "energy = OrderedDict()\n",
    "time = OrderedDict()"
   ]
  },
  {
   "cell_type": "markdown",
   "metadata": {},
   "source": [
    "## One last trick!\n",
    "### Template text replacing for automatic input creation\n",
    "#### and calculation\n",
    "\n",
    "1. First we define a list of varying parameters within a input file\n",
    "2. Define a replace function, which takes a template text file and replaces all instances into a new file\n",
    "3. Iterate over each variable, create input and calculate!\n",
    "\n"
   ]
  },
  {
   "cell_type": "code",
   "execution_count": 137,
   "metadata": {
    "collapsed": false
   },
   "outputs": [],
   "source": [
    "methods=['PM3','HF','MP2','MP4','CCSD','CCSD(T)','DLPNO-CCSD']"
   ]
  },
  {
   "cell_type": "code",
   "execution_count": 138,
   "metadata": {
    "collapsed": false
   },
   "outputs": [],
   "source": [
    "def replace_all(astr, bstr, dict):\n",
    "    with open(astr, 'r') as afile:\n",
    "        with open(bstr, 'w') as bfile:\n",
    "            data = afile.read()\n",
    "            for key, value in dict.items():\n",
    "                data = data.replace(key, str(value))\n",
    "            bfile.write(data)\n",
    "    return"
   ]
  },
  {
   "cell_type": "code",
   "execution_count": 141,
   "metadata": {
    "collapsed": false
   },
   "outputs": [],
   "source": [
    "import os\n",
    "\n",
    "for method in methods:\n",
    "    replaceDict={\"#{METHOD}\":method}\n",
    "    replace_all('template_method.inp','input.inp', replaceDict)\n",
    "    os.system('orca input.inp > %s.out'%method)"
   ]
  },
  {
   "cell_type": "markdown",
   "metadata": {},
   "source": [
    "# Whoa!\n",
    "## you just calculated 50 years of quantum chemistry in a few minutes!\n",
    "### now plot energy and time for each method"
   ]
  },
  {
   "cell_type": "code",
   "execution_count": null,
   "metadata": {
    "collapsed": true
   },
   "outputs": [],
   "source": []
  },
  {
   "cell_type": "markdown",
   "metadata": {},
   "source": [
    "## DFT functionals\n",
    "\n",
    "DFT functionals more or less go across what is called Jacob's ladder:\n",
    "![](images/jacobladderextra.png)"
   ]
  },
  {
   "cell_type": "markdown",
   "metadata": {},
   "source": [
    "### Now try one function of each class:\n",
    "\n",
    "* Local\n",
    "* Gradient corrected (GGA)\n",
    "* Meta GGA\n",
    "* Hybrid or hybrid meta GGA\n",
    "* Perturbatively corrected double hybrid\n",
    "\n",
    "Plot compute time and energy"
   ]
  },
  {
   "cell_type": "code",
   "execution_count": null,
   "metadata": {
    "collapsed": true
   },
   "outputs": [],
   "source": []
  },
  {
   "cell_type": "markdown",
   "metadata": {},
   "source": [
    "## extra: Basis set effects\n",
    "### with wavefunctions\n",
    "\n",
    "Compute using your favorite wavefunction method the following basis set:\n",
    "* cc-pVDZ\n",
    "* cc-pVTZ\n",
    "* cc-pVQZ\n",
    "* cc-pV5Z"
   ]
  },
  {
   "cell_type": "code",
   "execution_count": null,
   "metadata": {
    "collapsed": true
   },
   "outputs": [],
   "source": []
  },
  {
   "cell_type": "markdown",
   "metadata": {},
   "source": [
    "### with DFT\n",
    "Compute using your favorite functional method the following basis set:\n",
    "* Def2-SV\n",
    "* Def2-QDVP\n",
    "* Def2-TZV\n",
    "* Def2-QZVP"
   ]
  },
  {
   "cell_type": "code",
   "execution_count": null,
   "metadata": {
    "collapsed": true
   },
   "outputs": [],
   "source": []
  },
  {
   "cell_type": "markdown",
   "metadata": {
    "collapsed": false
   },
   "source": [
    "## finally..\n",
    "So now you know how to do a massive number of calculations, It might feel a bit mechanistic sometimes.. so it's good to remember\n",
    "> \n",
    "\"..Computers don‘t solve problems - people do!“\n",
    "> - Ernest R Davidson\n"
   ]
  }
 ],
 "metadata": {
  "kernelspec": {
   "display_name": "Python 2",
   "language": "python",
   "name": "python2"
  },
  "language_info": {
   "codemirror_mode": {
    "name": "ipython",
    "version": 2
   },
   "file_extension": ".py",
   "mimetype": "text/x-python",
   "name": "python",
   "nbconvert_exporter": "python",
   "pygments_lexer": "ipython2",
   "version": "2.7.9"
  }
 },
 "nbformat": 4,
 "nbformat_minor": 0
}
